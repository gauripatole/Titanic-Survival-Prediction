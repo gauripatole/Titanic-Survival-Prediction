{
 "cells": [
  {
   "cell_type": "markdown",
   "id": "7e49bebd",
   "metadata": {},
   "source": [
    "## Introduction"
   ]
  },
  {
   "cell_type": "markdown",
   "id": "d84571a2",
   "metadata": {},
   "source": [
    "1. Implement a single-neuron neural network, specifically the logistic regression unit.\n",
    "2. Replace the sigmoid activation function with an alternative, such as ReLU and tan.\n",
    "3. Utilize the Log Loss Function for the optimization process.\n",
    "4. Code the stochastic gradient descent (SGD) algorithm for optimization.\n",
    "5. Organize the implementation as a set of functions.\n",
    "6. Perform a classification task using the Titanic dataset.\n",
    "7. Evaluate the model's performance by calculating accuracy and F1 score as the final step"
   ]
  },
  {
   "cell_type": "markdown",
   "id": "55694f25",
   "metadata": {},
   "source": [
    "### Importing packages"
   ]
  },
  {
   "cell_type": "code",
   "execution_count": 1,
   "id": "594c7862",
   "metadata": {},
   "outputs": [],
   "source": [
    "import numpy as np\n",
    "import pandas as pd\n",
    "import matplotlib.pyplot as plt"
   ]
  },
  {
   "cell_type": "markdown",
   "id": "4a7c0c80",
   "metadata": {},
   "source": [
    "### Loading the dataset"
   ]
  },
  {
   "cell_type": "code",
   "execution_count": 2,
   "id": "3a2c9fd3",
   "metadata": {},
   "outputs": [
    {
     "data": {
      "text/html": [
       "<div>\n",
       "<style scoped>\n",
       "    .dataframe tbody tr th:only-of-type {\n",
       "        vertical-align: middle;\n",
       "    }\n",
       "\n",
       "    .dataframe tbody tr th {\n",
       "        vertical-align: top;\n",
       "    }\n",
       "\n",
       "    .dataframe thead th {\n",
       "        text-align: right;\n",
       "    }\n",
       "</style>\n",
       "<table border=\"1\" class=\"dataframe\">\n",
       "  <thead>\n",
       "    <tr style=\"text-align: right;\">\n",
       "      <th></th>\n",
       "      <th>PassengerId</th>\n",
       "      <th>Survived</th>\n",
       "      <th>Pclass</th>\n",
       "      <th>Name</th>\n",
       "      <th>Sex</th>\n",
       "      <th>Age</th>\n",
       "      <th>SibSp</th>\n",
       "      <th>Parch</th>\n",
       "      <th>Ticket</th>\n",
       "      <th>Fare</th>\n",
       "      <th>Cabin</th>\n",
       "      <th>Embarked</th>\n",
       "    </tr>\n",
       "  </thead>\n",
       "  <tbody>\n",
       "    <tr>\n",
       "      <th>0</th>\n",
       "      <td>1</td>\n",
       "      <td>0</td>\n",
       "      <td>3</td>\n",
       "      <td>Braund, Mr. Owen Harris</td>\n",
       "      <td>male</td>\n",
       "      <td>22.0</td>\n",
       "      <td>1</td>\n",
       "      <td>0</td>\n",
       "      <td>A/5 21171</td>\n",
       "      <td>7.2500</td>\n",
       "      <td>NaN</td>\n",
       "      <td>S</td>\n",
       "    </tr>\n",
       "    <tr>\n",
       "      <th>1</th>\n",
       "      <td>2</td>\n",
       "      <td>1</td>\n",
       "      <td>1</td>\n",
       "      <td>Cumings, Mrs. John Bradley (Florence Briggs Th...</td>\n",
       "      <td>female</td>\n",
       "      <td>38.0</td>\n",
       "      <td>1</td>\n",
       "      <td>0</td>\n",
       "      <td>PC 17599</td>\n",
       "      <td>71.2833</td>\n",
       "      <td>C85</td>\n",
       "      <td>C</td>\n",
       "    </tr>\n",
       "    <tr>\n",
       "      <th>2</th>\n",
       "      <td>3</td>\n",
       "      <td>1</td>\n",
       "      <td>3</td>\n",
       "      <td>Heikkinen, Miss. Laina</td>\n",
       "      <td>female</td>\n",
       "      <td>26.0</td>\n",
       "      <td>0</td>\n",
       "      <td>0</td>\n",
       "      <td>STON/O2. 3101282</td>\n",
       "      <td>7.9250</td>\n",
       "      <td>NaN</td>\n",
       "      <td>S</td>\n",
       "    </tr>\n",
       "    <tr>\n",
       "      <th>3</th>\n",
       "      <td>4</td>\n",
       "      <td>1</td>\n",
       "      <td>1</td>\n",
       "      <td>Futrelle, Mrs. Jacques Heath (Lily May Peel)</td>\n",
       "      <td>female</td>\n",
       "      <td>35.0</td>\n",
       "      <td>1</td>\n",
       "      <td>0</td>\n",
       "      <td>113803</td>\n",
       "      <td>53.1000</td>\n",
       "      <td>C123</td>\n",
       "      <td>S</td>\n",
       "    </tr>\n",
       "    <tr>\n",
       "      <th>4</th>\n",
       "      <td>5</td>\n",
       "      <td>0</td>\n",
       "      <td>3</td>\n",
       "      <td>Allen, Mr. William Henry</td>\n",
       "      <td>male</td>\n",
       "      <td>35.0</td>\n",
       "      <td>0</td>\n",
       "      <td>0</td>\n",
       "      <td>373450</td>\n",
       "      <td>8.0500</td>\n",
       "      <td>NaN</td>\n",
       "      <td>S</td>\n",
       "    </tr>\n",
       "  </tbody>\n",
       "</table>\n",
       "</div>"
      ],
      "text/plain": [
       "   PassengerId  Survived  Pclass  \\\n",
       "0            1         0       3   \n",
       "1            2         1       1   \n",
       "2            3         1       3   \n",
       "3            4         1       1   \n",
       "4            5         0       3   \n",
       "\n",
       "                                                Name     Sex   Age  SibSp  \\\n",
       "0                            Braund, Mr. Owen Harris    male  22.0      1   \n",
       "1  Cumings, Mrs. John Bradley (Florence Briggs Th...  female  38.0      1   \n",
       "2                             Heikkinen, Miss. Laina  female  26.0      0   \n",
       "3       Futrelle, Mrs. Jacques Heath (Lily May Peel)  female  35.0      1   \n",
       "4                           Allen, Mr. William Henry    male  35.0      0   \n",
       "\n",
       "   Parch            Ticket     Fare Cabin Embarked  \n",
       "0      0         A/5 21171   7.2500   NaN        S  \n",
       "1      0          PC 17599  71.2833   C85        C  \n",
       "2      0  STON/O2. 3101282   7.9250   NaN        S  \n",
       "3      0            113803  53.1000  C123        S  \n",
       "4      0            373450   8.0500   NaN        S  "
      ]
     },
     "execution_count": 2,
     "metadata": {},
     "output_type": "execute_result"
    }
   ],
   "source": [
    "df = pd.read_csv('https://raw.githubusercontent.com/datasciencedojo/datasets/master/titanic.csv')\n",
    "\n",
    "df.head()"
   ]
  },
  {
   "cell_type": "code",
   "execution_count": 3,
   "id": "6cbbd907",
   "metadata": {},
   "outputs": [
    {
     "data": {
      "text/plain": [
       "Index(['PassengerId', 'Survived', 'Pclass', 'Name', 'Sex', 'Age', 'SibSp',\n",
       "       'Parch', 'Ticket', 'Fare', 'Cabin', 'Embarked'],\n",
       "      dtype='object')"
      ]
     },
     "execution_count": 3,
     "metadata": {},
     "output_type": "execute_result"
    }
   ],
   "source": [
    "# list of columns in the dataset\n",
    "df.columns"
   ]
  },
  {
   "cell_type": "code",
   "execution_count": 4,
   "id": "12187f54",
   "metadata": {},
   "outputs": [
    {
     "data": {
      "text/html": [
       "<div>\n",
       "<style scoped>\n",
       "    .dataframe tbody tr th:only-of-type {\n",
       "        vertical-align: middle;\n",
       "    }\n",
       "\n",
       "    .dataframe tbody tr th {\n",
       "        vertical-align: top;\n",
       "    }\n",
       "\n",
       "    .dataframe thead th {\n",
       "        text-align: right;\n",
       "    }\n",
       "</style>\n",
       "<table border=\"1\" class=\"dataframe\">\n",
       "  <thead>\n",
       "    <tr style=\"text-align: right;\">\n",
       "      <th></th>\n",
       "      <th>PassengerId</th>\n",
       "      <th>Survived</th>\n",
       "      <th>Pclass</th>\n",
       "      <th>Name</th>\n",
       "      <th>Sex</th>\n",
       "      <th>Age</th>\n",
       "      <th>SibSp</th>\n",
       "      <th>Parch</th>\n",
       "      <th>Ticket</th>\n",
       "      <th>Fare</th>\n",
       "      <th>Cabin</th>\n",
       "      <th>Embarked</th>\n",
       "    </tr>\n",
       "  </thead>\n",
       "  <tbody>\n",
       "    <tr>\n",
       "      <th>0</th>\n",
       "      <td>1</td>\n",
       "      <td>0</td>\n",
       "      <td>3</td>\n",
       "      <td>Braund, Mr. Owen Harris</td>\n",
       "      <td>male</td>\n",
       "      <td>22.0</td>\n",
       "      <td>1</td>\n",
       "      <td>0</td>\n",
       "      <td>A/5 21171</td>\n",
       "      <td>7.2500</td>\n",
       "      <td>NaN</td>\n",
       "      <td>S</td>\n",
       "    </tr>\n",
       "    <tr>\n",
       "      <th>1</th>\n",
       "      <td>2</td>\n",
       "      <td>1</td>\n",
       "      <td>1</td>\n",
       "      <td>Cumings, Mrs. John Bradley (Florence Briggs Th...</td>\n",
       "      <td>female</td>\n",
       "      <td>38.0</td>\n",
       "      <td>1</td>\n",
       "      <td>0</td>\n",
       "      <td>PC 17599</td>\n",
       "      <td>71.2833</td>\n",
       "      <td>C85</td>\n",
       "      <td>C</td>\n",
       "    </tr>\n",
       "    <tr>\n",
       "      <th>2</th>\n",
       "      <td>3</td>\n",
       "      <td>1</td>\n",
       "      <td>3</td>\n",
       "      <td>Heikkinen, Miss. Laina</td>\n",
       "      <td>female</td>\n",
       "      <td>26.0</td>\n",
       "      <td>0</td>\n",
       "      <td>0</td>\n",
       "      <td>STON/O2. 3101282</td>\n",
       "      <td>7.9250</td>\n",
       "      <td>NaN</td>\n",
       "      <td>S</td>\n",
       "    </tr>\n",
       "    <tr>\n",
       "      <th>3</th>\n",
       "      <td>4</td>\n",
       "      <td>1</td>\n",
       "      <td>1</td>\n",
       "      <td>Futrelle, Mrs. Jacques Heath (Lily May Peel)</td>\n",
       "      <td>female</td>\n",
       "      <td>35.0</td>\n",
       "      <td>1</td>\n",
       "      <td>0</td>\n",
       "      <td>113803</td>\n",
       "      <td>53.1000</td>\n",
       "      <td>C123</td>\n",
       "      <td>S</td>\n",
       "    </tr>\n",
       "    <tr>\n",
       "      <th>4</th>\n",
       "      <td>5</td>\n",
       "      <td>0</td>\n",
       "      <td>3</td>\n",
       "      <td>Allen, Mr. William Henry</td>\n",
       "      <td>male</td>\n",
       "      <td>35.0</td>\n",
       "      <td>0</td>\n",
       "      <td>0</td>\n",
       "      <td>373450</td>\n",
       "      <td>8.0500</td>\n",
       "      <td>NaN</td>\n",
       "      <td>S</td>\n",
       "    </tr>\n",
       "    <tr>\n",
       "      <th>5</th>\n",
       "      <td>6</td>\n",
       "      <td>0</td>\n",
       "      <td>3</td>\n",
       "      <td>Moran, Mr. James</td>\n",
       "      <td>male</td>\n",
       "      <td>NaN</td>\n",
       "      <td>0</td>\n",
       "      <td>0</td>\n",
       "      <td>330877</td>\n",
       "      <td>8.4583</td>\n",
       "      <td>NaN</td>\n",
       "      <td>Q</td>\n",
       "    </tr>\n",
       "    <tr>\n",
       "      <th>6</th>\n",
       "      <td>7</td>\n",
       "      <td>0</td>\n",
       "      <td>1</td>\n",
       "      <td>McCarthy, Mr. Timothy J</td>\n",
       "      <td>male</td>\n",
       "      <td>54.0</td>\n",
       "      <td>0</td>\n",
       "      <td>0</td>\n",
       "      <td>17463</td>\n",
       "      <td>51.8625</td>\n",
       "      <td>E46</td>\n",
       "      <td>S</td>\n",
       "    </tr>\n",
       "    <tr>\n",
       "      <th>7</th>\n",
       "      <td>8</td>\n",
       "      <td>0</td>\n",
       "      <td>3</td>\n",
       "      <td>Palsson, Master. Gosta Leonard</td>\n",
       "      <td>male</td>\n",
       "      <td>2.0</td>\n",
       "      <td>3</td>\n",
       "      <td>1</td>\n",
       "      <td>349909</td>\n",
       "      <td>21.0750</td>\n",
       "      <td>NaN</td>\n",
       "      <td>S</td>\n",
       "    </tr>\n",
       "    <tr>\n",
       "      <th>8</th>\n",
       "      <td>9</td>\n",
       "      <td>1</td>\n",
       "      <td>3</td>\n",
       "      <td>Johnson, Mrs. Oscar W (Elisabeth Vilhelmina Berg)</td>\n",
       "      <td>female</td>\n",
       "      <td>27.0</td>\n",
       "      <td>0</td>\n",
       "      <td>2</td>\n",
       "      <td>347742</td>\n",
       "      <td>11.1333</td>\n",
       "      <td>NaN</td>\n",
       "      <td>S</td>\n",
       "    </tr>\n",
       "    <tr>\n",
       "      <th>9</th>\n",
       "      <td>10</td>\n",
       "      <td>1</td>\n",
       "      <td>2</td>\n",
       "      <td>Nasser, Mrs. Nicholas (Adele Achem)</td>\n",
       "      <td>female</td>\n",
       "      <td>14.0</td>\n",
       "      <td>1</td>\n",
       "      <td>0</td>\n",
       "      <td>237736</td>\n",
       "      <td>30.0708</td>\n",
       "      <td>NaN</td>\n",
       "      <td>C</td>\n",
       "    </tr>\n",
       "  </tbody>\n",
       "</table>\n",
       "</div>"
      ],
      "text/plain": [
       "   PassengerId  Survived  Pclass  \\\n",
       "0            1         0       3   \n",
       "1            2         1       1   \n",
       "2            3         1       3   \n",
       "3            4         1       1   \n",
       "4            5         0       3   \n",
       "5            6         0       3   \n",
       "6            7         0       1   \n",
       "7            8         0       3   \n",
       "8            9         1       3   \n",
       "9           10         1       2   \n",
       "\n",
       "                                                Name     Sex   Age  SibSp  \\\n",
       "0                            Braund, Mr. Owen Harris    male  22.0      1   \n",
       "1  Cumings, Mrs. John Bradley (Florence Briggs Th...  female  38.0      1   \n",
       "2                             Heikkinen, Miss. Laina  female  26.0      0   \n",
       "3       Futrelle, Mrs. Jacques Heath (Lily May Peel)  female  35.0      1   \n",
       "4                           Allen, Mr. William Henry    male  35.0      0   \n",
       "5                                   Moran, Mr. James    male   NaN      0   \n",
       "6                            McCarthy, Mr. Timothy J    male  54.0      0   \n",
       "7                     Palsson, Master. Gosta Leonard    male   2.0      3   \n",
       "8  Johnson, Mrs. Oscar W (Elisabeth Vilhelmina Berg)  female  27.0      0   \n",
       "9                Nasser, Mrs. Nicholas (Adele Achem)  female  14.0      1   \n",
       "\n",
       "   Parch            Ticket     Fare Cabin Embarked  \n",
       "0      0         A/5 21171   7.2500   NaN        S  \n",
       "1      0          PC 17599  71.2833   C85        C  \n",
       "2      0  STON/O2. 3101282   7.9250   NaN        S  \n",
       "3      0            113803  53.1000  C123        S  \n",
       "4      0            373450   8.0500   NaN        S  \n",
       "5      0            330877   8.4583   NaN        Q  \n",
       "6      0             17463  51.8625   E46        S  \n",
       "7      1            349909  21.0750   NaN        S  \n",
       "8      2            347742  11.1333   NaN        S  \n",
       "9      0            237736  30.0708   NaN        C  "
      ]
     },
     "execution_count": 4,
     "metadata": {},
     "output_type": "execute_result"
    }
   ],
   "source": [
    "# displaying first 10 rows\n",
    "df.head(10)"
   ]
  },
  {
   "cell_type": "code",
   "execution_count": 5,
   "id": "d80a75a1",
   "metadata": {},
   "outputs": [
    {
     "name": "stdout",
     "output_type": "stream",
     "text": [
      "<class 'pandas.core.frame.DataFrame'>\n",
      "RangeIndex: 891 entries, 0 to 890\n",
      "Data columns (total 12 columns):\n",
      " #   Column       Non-Null Count  Dtype  \n",
      "---  ------       --------------  -----  \n",
      " 0   PassengerId  891 non-null    int64  \n",
      " 1   Survived     891 non-null    int64  \n",
      " 2   Pclass       891 non-null    int64  \n",
      " 3   Name         891 non-null    object \n",
      " 4   Sex          891 non-null    object \n",
      " 5   Age          714 non-null    float64\n",
      " 6   SibSp        891 non-null    int64  \n",
      " 7   Parch        891 non-null    int64  \n",
      " 8   Ticket       891 non-null    object \n",
      " 9   Fare         891 non-null    float64\n",
      " 10  Cabin        204 non-null    object \n",
      " 11  Embarked     889 non-null    object \n",
      "dtypes: float64(2), int64(5), object(5)\n",
      "memory usage: 83.7+ KB\n"
     ]
    }
   ],
   "source": [
    "df.info()"
   ]
  },
  {
   "cell_type": "code",
   "execution_count": 6,
   "id": "64a75c23",
   "metadata": {},
   "outputs": [
    {
     "data": {
      "text/html": [
       "<div>\n",
       "<style scoped>\n",
       "    .dataframe tbody tr th:only-of-type {\n",
       "        vertical-align: middle;\n",
       "    }\n",
       "\n",
       "    .dataframe tbody tr th {\n",
       "        vertical-align: top;\n",
       "    }\n",
       "\n",
       "    .dataframe thead th {\n",
       "        text-align: right;\n",
       "    }\n",
       "</style>\n",
       "<table border=\"1\" class=\"dataframe\">\n",
       "  <thead>\n",
       "    <tr style=\"text-align: right;\">\n",
       "      <th></th>\n",
       "      <th>PassengerId</th>\n",
       "      <th>Survived</th>\n",
       "      <th>Pclass</th>\n",
       "      <th>Age</th>\n",
       "      <th>SibSp</th>\n",
       "      <th>Parch</th>\n",
       "      <th>Fare</th>\n",
       "    </tr>\n",
       "  </thead>\n",
       "  <tbody>\n",
       "    <tr>\n",
       "      <th>count</th>\n",
       "      <td>891.000000</td>\n",
       "      <td>891.000000</td>\n",
       "      <td>891.000000</td>\n",
       "      <td>714.000000</td>\n",
       "      <td>891.000000</td>\n",
       "      <td>891.000000</td>\n",
       "      <td>891.000000</td>\n",
       "    </tr>\n",
       "    <tr>\n",
       "      <th>mean</th>\n",
       "      <td>446.000000</td>\n",
       "      <td>0.383838</td>\n",
       "      <td>2.308642</td>\n",
       "      <td>29.699118</td>\n",
       "      <td>0.523008</td>\n",
       "      <td>0.381594</td>\n",
       "      <td>32.204208</td>\n",
       "    </tr>\n",
       "    <tr>\n",
       "      <th>std</th>\n",
       "      <td>257.353842</td>\n",
       "      <td>0.486592</td>\n",
       "      <td>0.836071</td>\n",
       "      <td>14.526497</td>\n",
       "      <td>1.102743</td>\n",
       "      <td>0.806057</td>\n",
       "      <td>49.693429</td>\n",
       "    </tr>\n",
       "    <tr>\n",
       "      <th>min</th>\n",
       "      <td>1.000000</td>\n",
       "      <td>0.000000</td>\n",
       "      <td>1.000000</td>\n",
       "      <td>0.420000</td>\n",
       "      <td>0.000000</td>\n",
       "      <td>0.000000</td>\n",
       "      <td>0.000000</td>\n",
       "    </tr>\n",
       "    <tr>\n",
       "      <th>25%</th>\n",
       "      <td>223.500000</td>\n",
       "      <td>0.000000</td>\n",
       "      <td>2.000000</td>\n",
       "      <td>20.125000</td>\n",
       "      <td>0.000000</td>\n",
       "      <td>0.000000</td>\n",
       "      <td>7.910400</td>\n",
       "    </tr>\n",
       "    <tr>\n",
       "      <th>50%</th>\n",
       "      <td>446.000000</td>\n",
       "      <td>0.000000</td>\n",
       "      <td>3.000000</td>\n",
       "      <td>28.000000</td>\n",
       "      <td>0.000000</td>\n",
       "      <td>0.000000</td>\n",
       "      <td>14.454200</td>\n",
       "    </tr>\n",
       "    <tr>\n",
       "      <th>75%</th>\n",
       "      <td>668.500000</td>\n",
       "      <td>1.000000</td>\n",
       "      <td>3.000000</td>\n",
       "      <td>38.000000</td>\n",
       "      <td>1.000000</td>\n",
       "      <td>0.000000</td>\n",
       "      <td>31.000000</td>\n",
       "    </tr>\n",
       "    <tr>\n",
       "      <th>max</th>\n",
       "      <td>891.000000</td>\n",
       "      <td>1.000000</td>\n",
       "      <td>3.000000</td>\n",
       "      <td>80.000000</td>\n",
       "      <td>8.000000</td>\n",
       "      <td>6.000000</td>\n",
       "      <td>512.329200</td>\n",
       "    </tr>\n",
       "  </tbody>\n",
       "</table>\n",
       "</div>"
      ],
      "text/plain": [
       "       PassengerId    Survived      Pclass         Age       SibSp  \\\n",
       "count   891.000000  891.000000  891.000000  714.000000  891.000000   \n",
       "mean    446.000000    0.383838    2.308642   29.699118    0.523008   \n",
       "std     257.353842    0.486592    0.836071   14.526497    1.102743   \n",
       "min       1.000000    0.000000    1.000000    0.420000    0.000000   \n",
       "25%     223.500000    0.000000    2.000000   20.125000    0.000000   \n",
       "50%     446.000000    0.000000    3.000000   28.000000    0.000000   \n",
       "75%     668.500000    1.000000    3.000000   38.000000    1.000000   \n",
       "max     891.000000    1.000000    3.000000   80.000000    8.000000   \n",
       "\n",
       "            Parch        Fare  \n",
       "count  891.000000  891.000000  \n",
       "mean     0.381594   32.204208  \n",
       "std      0.806057   49.693429  \n",
       "min      0.000000    0.000000  \n",
       "25%      0.000000    7.910400  \n",
       "50%      0.000000   14.454200  \n",
       "75%      0.000000   31.000000  \n",
       "max      6.000000  512.329200  "
      ]
     },
     "execution_count": 6,
     "metadata": {},
     "output_type": "execute_result"
    }
   ],
   "source": [
    "# Review data\n",
    "df.describe()"
   ]
  },
  {
   "cell_type": "markdown",
   "id": "d692639b",
   "metadata": {},
   "source": [
    "### Data Visualization"
   ]
  },
  {
   "cell_type": "code",
   "execution_count": 7,
   "id": "d0a2bf1b",
   "metadata": {},
   "outputs": [
    {
     "data": {
      "text/plain": [
       "<AxesSubplot:title={'center':'Survival Rate by Gender'}, xlabel='Gender', ylabel='Survival Rate'>"
      ]
     },
     "execution_count": 7,
     "metadata": {},
     "output_type": "execute_result"
    },
    {
     "data": {
      "image/png": "[encoded data removed]",
      "text/plain": [
       "<Figure size 640x480 with 1 Axes>"
      ]
     },
     "metadata": {},
     "output_type": "display_data"
    }
   ],
   "source": [
    "# Calculate the survival rate by gender\n",
    "survival_rate = df.groupby(\"Sex\")[\"Survived\"].mean()\n",
    "colors = [\"skyblue\", \"lightcoral\"]\n",
    "labels = [\"Female\", \"Male\"]\n",
    "fig, ax = plt.subplots()\n",
    "survival_rate.plot(kind=\"bar\", color=colors, ax=ax)\n",
    "ax.set_xticklabels(labels, rotation=0)\n",
    "ax.set_xlabel(\"Gender\")\n",
    "ax.set_ylabel(\"Survival Rate\")\n",
    "ax.set_title(\"Survival Rate by Gender\")\n",
    "for p in ax.patches:\n",
    "    ax.annotate(f\"{p.get_height()*100:.2f}%\", (p.get_x() + p.get_width() / 2, p.get_height()),\n",
    "                ha='center', va='bottom', fontsize=12, color='black')\n",
    "ax.spines[\"top\"].set_visible(False)\n",
    "ax\n",
    "\n"
   ]
  },
  {
   "cell_type": "code",
   "execution_count": 8,
   "id": "0e691a35",
   "metadata": {},
   "outputs": [
    {
     "data": {
      "image/png": "[encoded data removed]",
      "text/plain": [
       "<Figure size 640x480 with 1 Axes>"
      ]
     },
     "metadata": {},
     "output_type": "display_data"
    }
   ],
   "source": [
    "# Calculate the survival rate by gender and passenger class\n",
    "\n",
    "survival_rate_by_class = df.groupby([\"Sex\", \"Pclass\"])[\"Survived\"].mean().unstack()\n",
    "class_colors = {1: \"skyblue\", 2: \"lightgreen\", 3: \"lightcoral\"}\n",
    "ax = survival_rate_by_class.plot(kind=\"bar\", width=0.2, color=[class_colors[col] for col in survival_rate_by_class.columns])\n",
    "plt.xlabel(\"Gender\")\n",
    "plt.ylabel(\"Survival Rate\")\n",
    "plt.title(\"Survival Rate by Gender and Passenger Class\")\n",
    "plt.legend(title=\"Passenger Class\", labels=[f\"Class {col}\" for col in survival_rate_by_class.columns], loc=\"upper right\")\n",
    "for i, container in enumerate(ax.containers):\n",
    "    for j, p in enumerate(container.patches):\n",
    "        ax.annotate(f\"{p.get_height()*100:.1f}%\", (p.get_x() + p.get_width() * (i - 1), p.get_height()),\n",
    "                    ha='center', va='bottom', fontsize=10, color='black', xytext=(0, 5),\n",
    "                    textcoords='offset points')\n",
    "ax.spines[\"top\"].set_visible(False)\n",
    "ax.spines[\"right\"].set_visible(False)\n",
    "plt.tight_layout()\n",
    "plt.show()\n"
   ]
  },
  {
   "cell_type": "code",
   "execution_count": 9,
   "id": "4f85e3f1",
   "metadata": {},
   "outputs": [],
   "source": [
    "# Filter out missing age values\n",
    "filtered_age = df[\"Age\"].dropna()\n"
   ]
  },
  {
   "cell_type": "code",
   "execution_count": 10,
   "id": "73748d99",
   "metadata": {},
   "outputs": [
    {
     "data": {
      "text/plain": [
       "<AxesSubplot:title={'center':'Age Distribution of Passengers'}, xlabel='Age', ylabel='Number of Passengers'>"
      ]
     },
     "execution_count": 10,
     "metadata": {},
     "output_type": "execute_result"
    },
    {
     "data": {
      "image/png": "[encoded data removed]",
      "text/plain": [
       "<Figure size 800x600 with 1 Axes>"
      ]
     },
     "metadata": {},
     "output_type": "display_data"
    }
   ],
   "source": [
    "# Plot the age distribution of passengers using a histogram\n",
    "fig, ax = plt.subplots(figsize=(8, 6))\n",
    "ax.hist(filtered_age, bins=20, color=\"skyblue\", edgecolor=\"black\", alpha=0.8)\n",
    "ax.set_xlabel(\"Age\")\n",
    "ax.set_ylabel(\"Number of Passengers\")\n",
    "ax.set_title(\"Age Distribution of Passengers\")\n",
    "plt.xticks(range(0, 90, 5))\n",
    "plt.xlim(0, 85)\n",
    "plt.ylim(0, 300)\n",
    "plt.yticks(range(0, 301, 50))\n",
    "mean_age = filtered_age.mean()\n",
    "ax\n"
   ]
  },
  {
   "cell_type": "code",
   "execution_count": 11,
   "id": "b885c71b",
   "metadata": {},
   "outputs": [
    {
     "data": {
      "image/png": "[encoded data removed]",
      "text/plain": [
       "<Figure size 640x480 with 1 Axes>"
      ]
     },
     "metadata": {},
     "output_type": "display_data"
    }
   ],
   "source": [
    "# Plot the fare distribution by passenger class\n",
    "df.boxplot(column=\"Fare\", by=\"Pclass\")\n",
    "plt.xlabel(\"Passenger Class\")\n",
    "plt.ylabel(\"Fare\")\n",
    "plt.title(\"Fare Distribution by Passenger Class\")\n",
    "plt.suptitle(\"\")\n",
    "plt.show()\n"
   ]
  },
  {
   "cell_type": "markdown",
   "id": "4f30316c",
   "metadata": {},
   "source": [
    "### Defining the ReLU activation function "
   ]
  },
  {
   "cell_type": "code",
   "execution_count": 12,
   "id": "a90c7ff6",
   "metadata": {},
   "outputs": [],
   "source": [
    "def relu_function(X):\n",
    "    return np.maximum(0, X)### The function for stochastic gradient descent (SGD) optimization"
   ]
  },
  {
   "cell_type": "markdown",
   "id": "7798e8e5",
   "metadata": {},
   "source": [
    "### The Log Loss function definition"
   ]
  },
  {
   "cell_type": "code",
   "execution_count": 13,
   "id": "cf69745f",
   "metadata": {},
   "outputs": [],
   "source": [
    "def log_loss_function(y_true, y_predict):\n",
    "    return -((y_true * np.log(y_predict)) + ((1 - y_true) * np.log(1 - y_predict)))\n"
   ]
  },
  {
   "cell_type": "markdown",
   "id": "c0b95206",
   "metadata": {},
   "source": [
    "### The function for stochastic gradient descent (SGD) optimization"
   ]
  },
  {
   "cell_type": "code",
   "execution_count": 14,
   "id": "e47b7d97",
   "metadata": {},
   "outputs": [],
   "source": [
    "def sgd_function(X, y_true, weights_generated, rate_of_learning):\n",
    "    y_pred = relu_function(np.dot(X, weights_generated))\n",
    "    error = y_pred - y_true\n",
    "    gradient = np.dot(X.T, error) / len(X)\n",
    "    weights_generated -= rate_of_learning * gradient\n",
    "    return weights_generated\n"
   ]
  },
  {
   "cell_type": "markdown",
   "id": "9c4be5a2",
   "metadata": {},
   "source": [
    "###  The training function for the logistic regression model with SGD."
   ]
  },
  {
   "cell_type": "code",
   "execution_count": 15,
   "id": "7b0abe0c",
   "metadata": {},
   "outputs": [],
   "source": [
    "def logistic_regression(X, y, activation_function=relu_function, rate_of_learning=0.1, epochs=100):\n",
    "    X = np.hstack((np.ones((X.shape[0], 1)), X))\n",
    "\n",
    "    weights_generated = np.zeros(X.shape[1])\n",
    "    \n",
    "    # Looping over the specified number of epochs\n",
    "    for epoch in range(epochs):\n",
    "        # Looping over each training example\n",
    "        for i in range(X.shape[0]):\n",
    "            # Performing SGD update\n",
    "            weights_generated = sgd_function(X[i], y[i], weights_generated, rate_of_learning)\n",
    "    \n",
    "    # Returning the learned weights\n",
    "    return weights_generated"
   ]
  },
  {
   "cell_type": "markdown",
   "id": "fa388150",
   "metadata": {},
   "source": [
    "### Checking how many null and NaN are there in the dataset"
   ]
  },
  {
   "cell_type": "code",
   "execution_count": 16,
   "id": "93699c0b",
   "metadata": {},
   "outputs": [
    {
     "data": {
      "text/plain": [
       "PassengerId      0\n",
       "Survived         0\n",
       "Pclass           0\n",
       "Name             0\n",
       "Sex              0\n",
       "Age            177\n",
       "SibSp            0\n",
       "Parch            0\n",
       "Ticket           0\n",
       "Fare             0\n",
       "Cabin          687\n",
       "Embarked         2\n",
       "dtype: int64"
      ]
     },
     "execution_count": 16,
     "metadata": {},
     "output_type": "execute_result"
    }
   ],
   "source": [
    "df.isnull().sum()"
   ]
  },
  {
   "cell_type": "code",
   "execution_count": 17,
   "id": "63bd6bfe",
   "metadata": {},
   "outputs": [
    {
     "data": {
      "text/plain": [
       "PassengerId      0\n",
       "Survived         0\n",
       "Pclass           0\n",
       "Name             0\n",
       "Sex              0\n",
       "Age            177\n",
       "SibSp            0\n",
       "Parch            0\n",
       "Ticket           0\n",
       "Fare             0\n",
       "Cabin          687\n",
       "Embarked         2\n",
       "dtype: int64"
      ]
     },
     "execution_count": 17,
     "metadata": {},
     "output_type": "execute_result"
    }
   ],
   "source": [
    "df.isna().sum()"
   ]
  },
  {
   "cell_type": "markdown",
   "id": "77b02cf4",
   "metadata": {},
   "source": [
    "### Data Wrangling"
   ]
  },
  {
   "cell_type": "markdown",
   "id": "66628d66",
   "metadata": {},
   "source": [
    "1. Removing non-relevant columns from the dataset.\n",
    "2. Transforming categorical variables into one-hot encoding to represent different categories.\n",
    "3. Imputing missing values by filling them with the mean (average) values.\n",
    "4. Separating the dataset into features and labels.\n",
    "5. Scaling the features to bring them to a similar scale for better model performance.\n",
    "6. Dividing the Titanic dataset into training and testing sets, with 70% for training and 30% for testing, respectively."
   ]
  },
  {
   "cell_type": "code",
   "execution_count": 18,
   "id": "c434a7d2",
   "metadata": {},
   "outputs": [],
   "source": [
    "df = df.drop(['PassengerId', 'Name', 'Ticket', 'Cabin'], axis=1)\n",
    "\n",
    "df = pd.get_dummies(df, columns=['Sex', 'Embarked'])\n",
    "\n",
    "df = df.fillna(df.mean())\n",
    "\n",
    "X = df.drop('Survived', axis=1).values\n",
    "y = df['Survived'].values\n",
    "\n",
    "X = (X - X.mean()) / X.std()\n",
    "\n",
    "np.random.seed(42)\n",
    "idx = np.arange(X.shape[0])\n",
    "np.random.shuffle(idx)\n",
    "split_idx = int(X.shape[0] * 0.7)\n",
    "X_train, X_test = X[idx[:split_idx]], X[idx[split_idx:]]\n",
    "y_train, y_test = y[idx[:split_idx]], y[idx[split_idx:]]\n"
   ]
  },
  {
   "cell_type": "markdown",
   "id": "f97a7a05",
   "metadata": {},
   "source": [
    "### Checking if the no. of columns of the train and test data is same or not"
   ]
  },
  {
   "cell_type": "code",
   "execution_count": 19,
   "id": "73490733",
   "metadata": {},
   "outputs": [
    {
     "name": "stdout",
     "output_type": "stream",
     "text": [
      "(268, 10)\n",
      "(268,)\n",
      "(623, 10)\n",
      "(623,)\n"
     ]
    }
   ],
   "source": [
    "print(X_test.shape)\n",
    "\n",
    "print(y_test.shape)\n",
    "\n",
    "print(X_train.shape)\n",
    "\n",
    "print(y_train.shape)"
   ]
  },
  {
   "cell_type": "markdown",
   "id": "15ebb99d",
   "metadata": {},
   "source": [
    "### Training this logistic regression model"
   ]
  },
  {
   "cell_type": "code",
   "execution_count": 20,
   "id": "aa87d0e1",
   "metadata": {},
   "outputs": [],
   "source": [
    "weights_generated = logistic_regression(X_train, y_train, activation_function=relu_function, rate_of_learning=0.1, epochs=100)\n"
   ]
  },
  {
   "cell_type": "markdown",
   "id": "dbb87ff9",
   "metadata": {},
   "source": [
    "### Making predictions on the test set using Numpy package and using ReLu activation function instead of sigmoid"
   ]
  },
  {
   "cell_type": "code",
   "execution_count": 21,
   "id": "47270a99",
   "metadata": {},
   "outputs": [],
   "source": [
    "X_test = np.hstack((np.ones((X_test.shape[0], 1)), X_test))\n",
    "y_pred = np.round(relu_function(np.dot(X_test, weights_generated)))"
   ]
  },
  {
   "cell_type": "markdown",
   "id": "91abe2c7",
   "metadata": {},
   "source": [
    "### Calculating accuracy and F1 score"
   ]
  },
  {
   "cell_type": "code",
   "execution_count": 22,
   "id": "6069fb76",
   "metadata": {},
   "outputs": [
    {
     "name": "stdout",
     "output_type": "stream",
     "text": [
      "57\n",
      "152\n",
      "18\n",
      "41\n",
      "0.7798507462686567\n",
      "Accuracy: 0.7798507462686567\n",
      "F1 Score: 0.6589595375722543\n"
     ]
    }
   ],
   "source": [
    "TP = np.sum((y_test == 1) & (y_pred == 1))\n",
    "print(TP)\n",
    "TN = np.sum((y_test == 0) & (y_pred == 0))\n",
    "print(TN)\n",
    "FP = np.sum((y_test == 0) & (y_pred == 1))\n",
    "print(FP)\n",
    "FN = np.sum((y_test == 1) & (y_pred == 0))\n",
    "print(FN)\n",
    "\n",
    "accuracy = (TP + TN) / (TP + TN + FP + FN)\n",
    "print(accuracy)\n",
    "precision = TP / (TP + FP)\n",
    "recall = TP / (TP + FN)\n",
    "f1 = 2 * precision * recall / (precision + recall)\n",
    "print('Accuracy:', accuracy)\n",
    "print('F1 Score:', f1)"
   ]
  },
  {
   "cell_type": "markdown",
   "id": "7d2b8400",
   "metadata": {},
   "source": [
    "### This model is built with the accuracy of 78% and F1 score of 0.66"
   ]
  },
  {
   "cell_type": "markdown",
   "id": "515c82aa",
   "metadata": {},
   "source": [
    "### Defining the tan activation function"
   ]
  },
  {
   "cell_type": "code",
   "execution_count": 23,
   "id": "dadd3654",
   "metadata": {},
   "outputs": [],
   "source": [
    "def tan_function(X):\n",
    "    return np.tan(X)\n",
    "\n",
    "def sgd_function(X, y_true, weights_generated, rate_of_learning):\n",
    "    y_pred = tan_function(np.dot(X, weights_generated))\n",
    "    error = y_pred - y_true\n",
    "    gradient = np.dot(X.T, error)\n",
    "    weights_generated -= rate_of_learning * gradient\n",
    "    return weights_generated\n",
    "\n",
    "def logistic_regression(X, y, activation_function=relu_function, rate_of_learning=0.1, epochs=100):\n",
    "    X = np.hstack((np.ones((X.shape[0], 1)), X))\n",
    "\n",
    "    weights_generated = np.zeros(X.shape[1])\n",
    "\n",
    "    # Looping over the specified number of epochs\n",
    "    for epoch in range(epochs):\n",
    "        # Looping over each training example\n",
    "        for i in range(X.shape[0]):\n",
    "            # Performing SGD update\n",
    "            weights_generated = sgd_function(X[i], y[i], weights_generated, rate_of_learning)\n",
    "\n",
    "    # Returning the learned weights\n",
    "    return weights_generated\n",
    "\n"
   ]
  },
  {
   "cell_type": "code",
   "execution_count": 24,
   "id": "1082b1d1",
   "metadata": {},
   "outputs": [],
   "source": [
    "y = df['Survived'].values\n",
    "\n",
    "X = (X - X.mean()) / X.std()\n",
    "\n",
    "np.random.seed(42)\n",
    "idx = np.arange(X.shape[0])\n",
    "np.random.shuffle(idx)\n",
    "split_idx = int(X.shape[0] * 0.7)\n",
    "X_train, X_test = X[idx[:split_idx]], X[idx[split_idx:]]\n",
    "y_train, y_test = y[idx[:split_idx]], y[idx[split_idx:]]\n"
   ]
  },
  {
   "cell_type": "markdown",
   "id": "f79eea39",
   "metadata": {},
   "source": [
    "### Checking if the no. of columns of the train and test data is same or not"
   ]
  },
  {
   "cell_type": "code",
   "execution_count": 25,
   "id": "f3c13648",
   "metadata": {},
   "outputs": [
    {
     "name": "stdout",
     "output_type": "stream",
     "text": [
      "(268, 10)\n",
      "(268,)\n",
      "(623, 10)\n",
      "(623,)\n"
     ]
    }
   ],
   "source": [
    "print(X_test.shape)\n",
    "\n",
    "print(y_test.shape)\n",
    "\n",
    "print(X_train.shape)\n",
    "\n",
    "print(y_train.shape)"
   ]
  },
  {
   "cell_type": "markdown",
   "id": "575d96c5",
   "metadata": {},
   "source": [
    "### Training this logistic regression model"
   ]
  },
  {
   "cell_type": "code",
   "execution_count": 26,
   "id": "c9067a8d",
   "metadata": {},
   "outputs": [],
   "source": [
    "weights_generated = logistic_regression(X_train, y_train, activation_function=tan_function, rate_of_learning=0.1, epochs=100)\n"
   ]
  },
  {
   "cell_type": "markdown",
   "id": "5c7c940f",
   "metadata": {},
   "source": [
    "### Making predictions on the test set using Numpy package and using tan activation function instead of sigmoid"
   ]
  },
  {
   "cell_type": "code",
   "execution_count": 27,
   "id": "e97a9edd",
   "metadata": {},
   "outputs": [],
   "source": [
    "X_test_with_bias = np.hstack((np.ones((X_test.shape[0], 1)), X_test))\n",
    "y_pred = np.round(tan_function(np.dot(X_test_with_bias, weights_generated)))"
   ]
  },
  {
   "cell_type": "markdown",
   "id": "5ff88ad9",
   "metadata": {},
   "source": [
    "### Calculating accuracy and F1 score"
   ]
  },
  {
   "cell_type": "code",
   "execution_count": 28,
   "id": "99b7aa99",
   "metadata": {},
   "outputs": [
    {
     "name": "stdout",
     "output_type": "stream",
     "text": [
      "15\n",
      "50\n",
      "23\n",
      "32\n",
      "0.5416666666666666\n",
      "Accuracy: 0.5416666666666666\n",
      "F1 Score: 0.3529411764705882\n"
     ]
    }
   ],
   "source": [
    "TP = np.sum((y_test == 1) & (y_pred == 1))\n",
    "print(TP)\n",
    "TN = np.sum((y_test == 0) & (y_pred == 0))\n",
    "print(TN)\n",
    "FP = np.sum((y_test == 0) & (y_pred == 1))\n",
    "print(FP)\n",
    "FN = np.sum((y_test == 1) & (y_pred == 0))\n",
    "print(FN)\n",
    "\n",
    "accuracy = (TP + TN) / (TP + TN + FP + FN)\n",
    "print(accuracy)\n",
    "precision = TP / (TP + FP)\n",
    "recall = TP / (TP + FN)\n",
    "f1 = 2 * precision * recall / (precision + recall)\n",
    "print('Accuracy:', accuracy)\n",
    "print('F1 Score:', f1)"
   ]
  },
  {
   "cell_type": "markdown",
   "id": "751e803d",
   "metadata": {},
   "source": [
    "### This model is built with the accuracy of 54% and F1 score of 0.35"
   ]
  },
  {
   "cell_type": "markdown",
   "id": "2568c787",
   "metadata": {},
   "source": [
    "### Inference\n",
    "\n",
    "1. The Titanic dataset is a binary classification problem used to predict passenger survival based on characteristics like age, gender, and ticket class.\n",
    "2. A single neural network model can be employed to make predictions with the Titanic dataset.\n",
    "3. The neural network's weights reveal the most crucial features for predicting survival, such as higher ticket class and being female.\n",
    "4. Unlike linear models, neural networks can learn non-linear relationships between features and the target variable.\n",
    "5. Overfitting can occur if the neural network is trained for too long or with excessive complexity, leading to poor performance on new data.\n",
    "6. Comparing the model's performance on training and validation sets helps detect overfitting.\n",
    "7. A well-trained neural network can adapt well to slightly different data distributions, showcasing its generalization capabilities.\n",
    "8. Although neural networks provide insights into feature-target relationships, they can be prone to overfitting and produce complex results that are not easily interpretable."
   ]
  }
 ],
 "metadata": {
  "kernelspec": {
   "display_name": "Python 3 (ipykernel)",
   "language": "python",
   "name": "python3"
  },
  "language_info": {
   "codemirror_mode": {
    "name": "ipython",
    "version": 3
   },
   "file_extension": ".py",
   "mimetype": "text/x-python",
   "name": "python",
   "nbconvert_exporter": "python",
   "pygments_lexer": "ipython3",
   "version": "3.9.13"
  }
 },
 "nbformat": 4,
 "nbformat_minor": 5
}
